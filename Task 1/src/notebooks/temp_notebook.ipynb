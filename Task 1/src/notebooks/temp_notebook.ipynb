{
 "cells": [
  {
   "cell_type": "markdown",
   "id": "7d6ca22d-7870-46db-8b4a-ee037e7b8859",
   "metadata": {},
   "source": [
    "### Tokenize"
   ]
  },
  {
   "cell_type": "code",
   "execution_count": 1,
   "id": "28d57b27-47a4-426b-8ed2-f0a7aa71dd95",
   "metadata": {},
   "outputs": [],
   "source": [
    "datapath = \"/home/ababil/BUET/Vinternship/Task 1/Transaction_Naration_Data_Set.csv\""
   ]
  },
  {
   "cell_type": "code",
   "execution_count": 15,
   "id": "011a6c7a-f592-4364-bfc2-d024d858a7bc",
   "metadata": {},
   "outputs": [],
   "source": [
    "import pandas as pd\n",
    "import os\n",
    "import seaborn as sns\n",
    "import matplotlib.pyplot as plt\n",
    "import scipy.stats as stats\n",
    "import numpy as np\n",
    "import nltk"
   ]
  },
  {
   "cell_type": "code",
   "execution_count": 3,
   "id": "9d7ab2b9-1e15-4932-be4d-4f81e13b7a4d",
   "metadata": {},
   "outputs": [
    {
     "data": {
      "text/html": [
       "<div>\n",
       "<style scoped>\n",
       "    .dataframe tbody tr th:only-of-type {\n",
       "        vertical-align: middle;\n",
       "    }\n",
       "\n",
       "    .dataframe tbody tr th {\n",
       "        vertical-align: top;\n",
       "    }\n",
       "\n",
       "    .dataframe thead th {\n",
       "        text-align: right;\n",
       "    }\n",
       "</style>\n",
       "<table border=\"1\" class=\"dataframe\">\n",
       "  <thead>\n",
       "    <tr style=\"text-align: right;\">\n",
       "      <th></th>\n",
       "      <th>Unnamed: 0</th>\n",
       "      <th>AC_ID</th>\n",
       "      <th>AMOUNT</th>\n",
       "      <th>DOC_DATE</th>\n",
       "      <th>NARATION</th>\n",
       "      <th>DR_CR</th>\n",
       "    </tr>\n",
       "  </thead>\n",
       "  <tbody>\n",
       "    <tr>\n",
       "      <th>0</th>\n",
       "      <td>0</td>\n",
       "      <td>3644877</td>\n",
       "      <td>342800.0</td>\n",
       "      <td>01-NOV-22</td>\n",
       "      <td>Cash Withdraw</td>\n",
       "      <td>Debit</td>\n",
       "    </tr>\n",
       "    <tr>\n",
       "      <th>1</th>\n",
       "      <td>1</td>\n",
       "      <td>1175256</td>\n",
       "      <td>342800.0</td>\n",
       "      <td>01-NOV-22</td>\n",
       "      <td>Cash Withdrawal From A/C No.:</td>\n",
       "      <td>Credit</td>\n",
       "    </tr>\n",
       "    <tr>\n",
       "      <th>2</th>\n",
       "      <td>2</td>\n",
       "      <td>2298226</td>\n",
       "      <td>1500.0</td>\n",
       "      <td>01-NOV-22</td>\n",
       "      <td>Cash withdraw from Micro Merchant point, MM A/C</td>\n",
       "      <td>Debit</td>\n",
       "    </tr>\n",
       "    <tr>\n",
       "      <th>3</th>\n",
       "      <td>3</td>\n",
       "      <td>4066427</td>\n",
       "      <td>1500.0</td>\n",
       "      <td>01-NOV-22</td>\n",
       "      <td>Credit Against Merchant Cash Withdraw Service ...</td>\n",
       "      <td>Credit</td>\n",
       "    </tr>\n",
       "    <tr>\n",
       "      <th>4</th>\n",
       "      <td>4</td>\n",
       "      <td>1978564</td>\n",
       "      <td>2550.0</td>\n",
       "      <td>01-NOV-22</td>\n",
       "      <td>Cash withdraw from Micro Merchant point, MM A/C</td>\n",
       "      <td>Debit</td>\n",
       "    </tr>\n",
       "  </tbody>\n",
       "</table>\n",
       "</div>"
      ],
      "text/plain": [
       "   Unnamed: 0    AC_ID    AMOUNT   DOC_DATE  \\\n",
       "0           0  3644877  342800.0  01-NOV-22   \n",
       "1           1  1175256  342800.0  01-NOV-22   \n",
       "2           2  2298226    1500.0  01-NOV-22   \n",
       "3           3  4066427    1500.0  01-NOV-22   \n",
       "4           4  1978564    2550.0  01-NOV-22   \n",
       "\n",
       "                                            NARATION   DR_CR  \n",
       "0                                      Cash Withdraw   Debit  \n",
       "1                     Cash Withdrawal From A/C No.:   Credit  \n",
       "2   Cash withdraw from Micro Merchant point, MM A/C    Debit  \n",
       "3  Credit Against Merchant Cash Withdraw Service ...  Credit  \n",
       "4   Cash withdraw from Micro Merchant point, MM A/C    Debit  "
      ]
     },
     "execution_count": 3,
     "metadata": {},
     "output_type": "execute_result"
    }
   ],
   "source": [
    "rawDf = pd.read_csv(datapath)\n",
    "rawDf.head(5)"
   ]
  },
  {
   "cell_type": "code",
   "execution_count": 7,
   "id": "407601a3-1691-4c41-9cfd-604c5d0f921c",
   "metadata": {},
   "outputs": [
    {
     "data": {
      "text/plain": [
       "['Cash Withdraw',\n",
       " 'Cash Withdrawal From A/C No.: ',\n",
       " 'Cash withdraw from Micro Merchant point, MM A/C ',\n",
       " 'Credit Against Merchant Cash Withdraw Service From A/C-',\n",
       " 'Cash withdraw from Micro Merchant point, MM A/C ',\n",
       " 'Credit Against Merchant Cash Withdraw Service From A/C-',\n",
       " 'Cash Deposit to A/C No.: ',\n",
       " 'Cash Deposit',\n",
       " 'Cash Deposit to A/C No.: ',\n",
       " 'Cash Deposit']"
      ]
     },
     "execution_count": 7,
     "metadata": {},
     "output_type": "execute_result"
    }
   ],
   "source": [
    "narationList = rawDf['NARATION'].values.tolist()\n",
    "narationList[0:10]"
   ]
  },
  {
   "cell_type": "code",
   "execution_count": 8,
   "id": "ebeeabf2-5885-4e17-85be-02cdd56f6166",
   "metadata": {},
   "outputs": [
    {
     "data": {
      "text/plain": [
       "22546758"
      ]
     },
     "execution_count": 8,
     "metadata": {},
     "output_type": "execute_result"
    }
   ],
   "source": [
    "len(narationList)"
   ]
  },
  {
   "cell_type": "code",
   "execution_count": 10,
   "id": "e2aef9b7-979c-42df-b823-ae22b6f11193",
   "metadata": {},
   "outputs": [
    {
     "data": {
      "text/plain": [
       "'Cash Deposit to A/C No.: '"
      ]
     },
     "execution_count": 10,
     "metadata": {},
     "output_type": "execute_result"
    }
   ],
   "source": [
    "dummyNarationList = narationList[:500]\n",
    "dummyNarationList[123]"
   ]
  },
  {
   "cell_type": "code",
   "execution_count": 19,
   "id": "25d70f75-125e-4c8e-953a-274cb048c583",
   "metadata": {},
   "outputs": [],
   "source": [
    "tempNaration = dummyNarationList[123]"
   ]
  },
  {
   "cell_type": "code",
   "execution_count": 20,
   "id": "3548d7ec-9f3a-4b5a-a21a-f529db3edb3c",
   "metadata": {},
   "outputs": [],
   "source": [
    "from nltk.tokenize import word_tokenize"
   ]
  },
  {
   "cell_type": "code",
   "execution_count": 21,
   "id": "99171241-7273-405d-bed0-b76d00609420",
   "metadata": {},
   "outputs": [
    {
     "name": "stdout",
     "output_type": "stream",
     "text": [
      "['Cash', 'Deposit', 'to', 'A/C', 'No', '.', ':']\n"
     ]
    }
   ],
   "source": [
    "words = word_tokenize(tempNaration)\n",
    "print(words)"
   ]
  },
  {
   "cell_type": "code",
   "execution_count": 34,
   "id": "416aacc8-f7c8-4880-8361-24c4b1aba6f3",
   "metadata": {},
   "outputs": [
    {
     "data": {
      "text/plain": [
       "['cash', 'withdrawal', 'from', 'a/c', 'no', '.', ':']"
      ]
     },
     "execution_count": 34,
     "metadata": {},
     "output_type": "execute_result"
    }
   ],
   "source": [
    "tempNaration = dummyNarationList[100].lower()\n",
    "temp = word_tokenize(tempNaration) \n",
    "temp"
   ]
  },
  {
   "cell_type": "code",
   "execution_count": 35,
   "id": "0d1893f6-4fdc-4833-8f9d-192e5b548d4b",
   "metadata": {},
   "outputs": [],
   "source": [
    "from nltk.corpus import stopwords \n",
    "from nltk.tokenize import word_tokenize \n",
    "\n",
    "stopWords = set(stopwords.words('english')) \n",
    "# stopWords"
   ]
  },
  {
   "cell_type": "code",
   "execution_count": 36,
   "id": "5d755afb-45ac-41be-be33-32ff20950cb1",
   "metadata": {},
   "outputs": [
    {
     "data": {
      "text/plain": [
       "['cash', 'withdrawal', 'a/c', '.', ':']"
      ]
     },
     "execution_count": 36,
     "metadata": {},
     "output_type": "execute_result"
    }
   ],
   "source": [
    "temp = [w for w in temp if not w in stopWords] \n",
    "temp"
   ]
  },
  {
   "cell_type": "code",
   "execution_count": null,
   "id": "1b11fb64-e4d9-409b-833b-fb23f1fdf94c",
   "metadata": {},
   "outputs": [],
   "source": []
  }
 ],
 "metadata": {
  "kernelspec": {
   "display_name": "Python 3 (ipykernel)",
   "language": "python",
   "name": "python3"
  },
  "language_info": {
   "codemirror_mode": {
    "name": "ipython",
    "version": 3
   },
   "file_extension": ".py",
   "mimetype": "text/x-python",
   "name": "python",
   "nbconvert_exporter": "python",
   "pygments_lexer": "ipython3",
   "version": "3.9.15"
  }
 },
 "nbformat": 4,
 "nbformat_minor": 5
}
