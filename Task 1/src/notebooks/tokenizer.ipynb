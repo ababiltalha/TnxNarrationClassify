{
 "cells": [
  {
   "cell_type": "code",
   "execution_count": 1,
   "id": "623e572c-7301-4fb0-8f71-74b1e0fed16f",
   "metadata": {},
   "outputs": [],
   "source": [
    "datapath = \"/home/ababil/BUET/Vinternship/Task 1/Transaction_Naration_Data_Set.csv\""
   ]
  },
  {
   "cell_type": "code",
   "execution_count": 2,
   "id": "a59ea48b-5e41-4263-b28d-31140ae7eee0",
   "metadata": {},
   "outputs": [],
   "source": [
    "import pandas as pd\n",
    "import os\n",
    "import seaborn as sns\n",
    "import matplotlib.pyplot as plt\n",
    "import scipy.stats as stats\n",
    "import numpy as np\n",
    "import nltk"
   ]
  },
  {
   "cell_type": "code",
   "execution_count": 3,
   "id": "c7a358f1-3bc0-4864-8320-23a83f396633",
   "metadata": {},
   "outputs": [],
   "source": [
    "from nltk.corpus import stopwords \n",
    "from nltk.tokenize import word_tokenize "
   ]
  },
  {
   "cell_type": "code",
   "execution_count": 4,
   "id": "652b3626-587e-46a1-a4de-3a4f276a8d49",
   "metadata": {},
   "outputs": [],
   "source": [
    "rawDf = pd.read_csv(datapath)"
   ]
  },
  {
   "cell_type": "code",
   "execution_count": 5,
   "id": "cc2456fd-d8e2-4d8f-a750-463ce2efae60",
   "metadata": {},
   "outputs": [],
   "source": [
    "narDf = rawDf[['NARATION']]\n",
    "narDf.columns = ['Narration']\n",
    "narDf = narDf.head(500)"
   ]
  },
  {
   "cell_type": "code",
   "execution_count": 6,
   "id": "e1ed24e7-c6fa-4994-9d47-c51a7cd6fa07",
   "metadata": {},
   "outputs": [
    {
     "data": {
      "text/html": [
       "<div>\n",
       "<style scoped>\n",
       "    .dataframe tbody tr th:only-of-type {\n",
       "        vertical-align: middle;\n",
       "    }\n",
       "\n",
       "    .dataframe tbody tr th {\n",
       "        vertical-align: top;\n",
       "    }\n",
       "\n",
       "    .dataframe thead th {\n",
       "        text-align: right;\n",
       "    }\n",
       "</style>\n",
       "<table border=\"1\" class=\"dataframe\">\n",
       "  <thead>\n",
       "    <tr style=\"text-align: right;\">\n",
       "      <th></th>\n",
       "      <th>Narration</th>\n",
       "    </tr>\n",
       "  </thead>\n",
       "  <tbody>\n",
       "    <tr>\n",
       "      <th>0</th>\n",
       "      <td>cash withdraw</td>\n",
       "    </tr>\n",
       "    <tr>\n",
       "      <th>1</th>\n",
       "      <td>cash withdrawal from a/c no.:</td>\n",
       "    </tr>\n",
       "    <tr>\n",
       "      <th>2</th>\n",
       "      <td>cash withdraw from micro merchant point, mm a/c</td>\n",
       "    </tr>\n",
       "    <tr>\n",
       "      <th>3</th>\n",
       "      <td>credit against merchant cash withdraw service ...</td>\n",
       "    </tr>\n",
       "    <tr>\n",
       "      <th>4</th>\n",
       "      <td>cash withdraw from micro merchant point, mm a/c</td>\n",
       "    </tr>\n",
       "  </tbody>\n",
       "</table>\n",
       "</div>"
      ],
      "text/plain": [
       "                                           Narration\n",
       "0                                      cash withdraw\n",
       "1                     cash withdrawal from a/c no.: \n",
       "2   cash withdraw from micro merchant point, mm a/c \n",
       "3  credit against merchant cash withdraw service ...\n",
       "4   cash withdraw from micro merchant point, mm a/c "
      ]
     },
     "execution_count": 6,
     "metadata": {},
     "output_type": "execute_result"
    }
   ],
   "source": [
    "narDf['Narration'] = narDf['Narration'].str.lower()\n",
    "narDf.head(5)"
   ]
  },
  {
   "cell_type": "code",
   "execution_count": 7,
   "id": "a72f4f7d-7820-4e86-8c1d-a12b5d68f54b",
   "metadata": {},
   "outputs": [
    {
     "data": {
      "text/html": [
       "<div>\n",
       "<style scoped>\n",
       "    .dataframe tbody tr th:only-of-type {\n",
       "        vertical-align: middle;\n",
       "    }\n",
       "\n",
       "    .dataframe tbody tr th {\n",
       "        vertical-align: top;\n",
       "    }\n",
       "\n",
       "    .dataframe thead th {\n",
       "        text-align: right;\n",
       "    }\n",
       "</style>\n",
       "<table border=\"1\" class=\"dataframe\">\n",
       "  <thead>\n",
       "    <tr style=\"text-align: right;\">\n",
       "      <th></th>\n",
       "      <th>Narration</th>\n",
       "    </tr>\n",
       "  </thead>\n",
       "  <tbody>\n",
       "    <tr>\n",
       "      <th>0</th>\n",
       "      <td>cash withdraw</td>\n",
       "    </tr>\n",
       "    <tr>\n",
       "      <th>1</th>\n",
       "      <td>cash withdrawal from a c no</td>\n",
       "    </tr>\n",
       "    <tr>\n",
       "      <th>2</th>\n",
       "      <td>cash withdraw from micro merchant point mm a c</td>\n",
       "    </tr>\n",
       "    <tr>\n",
       "      <th>3</th>\n",
       "      <td>credit against merchant cash withdraw service ...</td>\n",
       "    </tr>\n",
       "    <tr>\n",
       "      <th>4</th>\n",
       "      <td>cash withdraw from micro merchant point mm a c</td>\n",
       "    </tr>\n",
       "  </tbody>\n",
       "</table>\n",
       "</div>"
      ],
      "text/plain": [
       "                                           Narration\n",
       "0                                      cash withdraw\n",
       "1                       cash withdrawal from a c no \n",
       "2    cash withdraw from micro merchant point mm a c \n",
       "3  credit against merchant cash withdraw service ...\n",
       "4    cash withdraw from micro merchant point mm a c "
      ]
     },
     "execution_count": 7,
     "metadata": {},
     "output_type": "execute_result"
    }
   ],
   "source": [
    "narDf['Narration'] = narDf['Narration'].str.replace('[^A-Za-z0-9]+',' ', regex=True)\n",
    "narDf.head(5)"
   ]
  },
  {
   "cell_type": "code",
   "execution_count": 8,
   "id": "46690c1c-f57a-4f29-8d76-c94a99e737b2",
   "metadata": {},
   "outputs": [
    {
     "data": {
      "text/html": [
       "<div>\n",
       "<style scoped>\n",
       "    .dataframe tbody tr th:only-of-type {\n",
       "        vertical-align: middle;\n",
       "    }\n",
       "\n",
       "    .dataframe tbody tr th {\n",
       "        vertical-align: top;\n",
       "    }\n",
       "\n",
       "    .dataframe thead th {\n",
       "        text-align: right;\n",
       "    }\n",
       "</style>\n",
       "<table border=\"1\" class=\"dataframe\">\n",
       "  <thead>\n",
       "    <tr style=\"text-align: right;\">\n",
       "      <th></th>\n",
       "      <th>Narration</th>\n",
       "    </tr>\n",
       "  </thead>\n",
       "  <tbody>\n",
       "    <tr>\n",
       "      <th>0</th>\n",
       "      <td>cash withdraw</td>\n",
       "    </tr>\n",
       "    <tr>\n",
       "      <th>1</th>\n",
       "      <td>cash withdrawal c</td>\n",
       "    </tr>\n",
       "    <tr>\n",
       "      <th>2</th>\n",
       "      <td>cash withdraw micro merchant point mm c</td>\n",
       "    </tr>\n",
       "    <tr>\n",
       "      <th>3</th>\n",
       "      <td>credit merchant cash withdraw service c</td>\n",
       "    </tr>\n",
       "    <tr>\n",
       "      <th>4</th>\n",
       "      <td>cash withdraw micro merchant point mm c</td>\n",
       "    </tr>\n",
       "  </tbody>\n",
       "</table>\n",
       "</div>"
      ],
      "text/plain": [
       "                                 Narration\n",
       "0                            cash withdraw\n",
       "1                        cash withdrawal c\n",
       "2  cash withdraw micro merchant point mm c\n",
       "3  credit merchant cash withdraw service c\n",
       "4  cash withdraw micro merchant point mm c"
      ]
     },
     "execution_count": 8,
     "metadata": {},
     "output_type": "execute_result"
    }
   ],
   "source": [
    "stopwords = set(stopwords.words('english'))\n",
    "narDf['Narration'] = narDf['Narration'].apply(lambda words: ' '.join(word.lower() for word in words.split() if word not in stopwords))\n",
    "narDf.head(5)"
   ]
  },
  {
   "cell_type": "code",
   "execution_count": null,
   "id": "f78c429e-530b-41fe-87d0-5ef0f6865d93",
   "metadata": {},
   "outputs": [],
   "source": []
  }
 ],
 "metadata": {
  "kernelspec": {
   "display_name": "Python 3 (ipykernel)",
   "language": "python",
   "name": "python3"
  },
  "language_info": {
   "codemirror_mode": {
    "name": "ipython",
    "version": 3
   },
   "file_extension": ".py",
   "mimetype": "text/x-python",
   "name": "python",
   "nbconvert_exporter": "python",
   "pygments_lexer": "ipython3",
   "version": "3.9.15"
  }
 },
 "nbformat": 4,
 "nbformat_minor": 5
}
